{
 "cells": [
  {
   "cell_type": "code",
   "execution_count": null,
   "metadata": {},
   "outputs": [
    {
     "name": "stderr",
     "output_type": "stream",
     "text": [
      "/opt/anaconda3/envs/streamlit/lib/python3.11/site-packages/tqdm/auto.py:21: TqdmWarning: IProgress not found. Please update jupyter and ipywidgets. See https://ipywidgets.readthedocs.io/en/stable/user_install.html\n",
      "  from .autonotebook import tqdm as notebook_tqdm\n"
     ]
    }
   ],
   "source": [
    "# Importing required libraries\n",
    "\n",
    "import os\n",
    "import pickle\n",
    "import torch\n",
    "import numpy as np \n",
    "import matplotlib.pyplot as plt\n",
    "import cv2\n",
    "from facenet_pytorch import MTCNN\n",
    "from torchvision.models import resnet50, ResNet50_Weights\n",
    "import torchvision.transforms as T\n",
    "from PIL import Image"
   ]
  },
  {
   "cell_type": "code",
   "execution_count": 3,
   "metadata": {},
   "outputs": [],
   "source": [
    "# Define preprocessing pipeline for the input images\n",
    "\n",
    "preprocess = T.Compose([\n",
    "    T.ToTensor(),\n",
    "    T.Resize(224),\n",
    "    T.Normalize(\n",
    "       mean=[0.485, 0.456, 0.406],\n",
    "       std=[0.229, 0.224, 0.225]\n",
    "   )\n",
    "])"
   ]
  },
  {
   "cell_type": "markdown",
   "metadata": {},
   "source": [
    "## ResNET50 Model\n",
    "ResNET50 Model with pretrained weights on **IMAGENET1K_V2** is used in this model. The top layer is removed as we want to use ResNET50 as a **feature extractor** from the image dataset of bollywood actors and actresses. "
   ]
  },
  {
   "cell_type": "code",
   "execution_count": 4,
   "metadata": {},
   "outputs": [],
   "source": [
    "import torch.nn as nn\n",
    "class Model(nn.Module):\n",
    "    def __init__(self):\n",
    "        super(Model, self).__init__()\n",
    "        base_model = resnet50(weights=ResNet50_Weights.IMAGENET1K_V2)\n",
    "        self.model = nn.Sequential(*list(base_model.children())[:-1])\n",
    "\n",
    "    def forward(self, x):\n",
    "        return self.model(x)"
   ]
  },
  {
   "cell_type": "code",
   "execution_count": 5,
   "metadata": {},
   "outputs": [],
   "source": [
    "# object created of the model class\n",
    "feature_extractor = Model()\n",
    "\n",
    "# uncomment and run below line to see the model architect and description \n",
    "#feature_extractor.eval()"
   ]
  },
  {
   "cell_type": "markdown",
   "metadata": {},
   "source": [
    "Store the dataset of actor images in a folder called **data** \n",
    "\n",
    "You can download the dataset from here: https://www.kaggle.com/datasets/sushilyadav1998/bollywood-celeb-localized-face-dataset"
   ]
  },
  {
   "cell_type": "code",
   "execution_count": null,
   "metadata": {},
   "outputs": [],
   "source": [
    "# Iterate over all actors and collect the paths of their image files\n",
    "for actor in actors:\n",
    "    for file in os.listdir(os.path.join('data', actor)):\n",
    "        filenames.append(os.path.join(\"data\", actor, file))\n",
    "\n",
    "# Save the collected filenames to a pickle file for future use\n",
    "pickle.dump(filenames, open('filenames.pkl', 'wb'))"
   ]
  },
  {
   "cell_type": "code",
   "execution_count": null,
   "metadata": {},
   "outputs": [],
   "source": [
    "# Initialize an empty list to store features\n",
    "features_lst = []\n",
    "\n",
    "# Load the list of filenames from the pickle file\n",
    "filenames = pickle.load(open('filenames.pkl', 'rb'))\n",
    "\n",
    "# Loop through all image files, preprocess them, and extract features using the feature extractor\n",
    "for filename in filenames:\n",
    "    # Open the image and convert it to RGB format\n",
    "    image = Image.open(filename).convert('RGB')\n",
    "    \n",
    "    # Preprocess the image and add a batch dimension\n",
    "    input_tensor = preprocess(image).unsqueeze(0)\n",
    "    \n",
    "    # Extract features without computing gradients (no training)\n",
    "    with torch.no_grad():\n",
    "        features = feature_extractor(input_tensor)\n",
    "    \n",
    "    # Flatten the features and add them to the list\n",
    "    features_lst.append(features.flatten())"
   ]
  },
  {
   "cell_type": "code",
   "execution_count": null,
   "metadata": {},
   "outputs": [],
   "source": [
    "# Store the extracted feature list in a file for later use\n",
    "pickle.dump(features_lst,open(\"embedding.pkl\",\"wb\"))"
   ]
  }
 ],
 "metadata": {
  "kernelspec": {
   "display_name": "streamlit",
   "language": "python",
   "name": "python3"
  },
  "language_info": {
   "codemirror_mode": {
    "name": "ipython",
    "version": 3
   },
   "file_extension": ".py",
   "mimetype": "text/x-python",
   "name": "python",
   "nbconvert_exporter": "python",
   "pygments_lexer": "ipython3",
   "version": "3.11.10"
  }
 },
 "nbformat": 4,
 "nbformat_minor": 4
}
